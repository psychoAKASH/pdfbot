{
 "cells": [
  {
   "cell_type": "code",
   "execution_count": null,
   "id": "9a8e1904-5ce2-4de4-8ba9-d035676be7fb",
   "metadata": {},
   "outputs": [],
   "source": []
  },
  {
   "cell_type": "code",
   "execution_count": 5,
   "id": "7c8d0159-0b12-45c7-90dd-3dcae673aa99",
   "metadata": {},
   "outputs": [
    {
     "name": "stdout",
     "output_type": "stream",
     "text": [
      "Collecting llama-index\n",
      "  Using cached llama_index-0.11.1-py3-none-any.whl.metadata (11 kB)\n",
      "Collecting llama-index-agent-openai<0.4.0,>=0.3.0 (from llama-index)\n",
      "  Using cached llama_index_agent_openai-0.3.0-py3-none-any.whl.metadata (728 bytes)\n",
      "Collecting llama-index-cli<0.4.0,>=0.3.0 (from llama-index)\n",
      "  Using cached llama_index_cli-0.3.0-py3-none-any.whl.metadata (1.5 kB)\n",
      "Collecting llama-index-core<0.12.0,>=0.11.1 (from llama-index)\n",
      "  Using cached llama_index_core-0.11.1-py3-none-any.whl.metadata (2.4 kB)\n",
      "Collecting llama-index-embeddings-openai<0.3.0,>=0.2.0 (from llama-index)\n",
      "  Using cached llama_index_embeddings_openai-0.2.3-py3-none-any.whl.metadata (635 bytes)\n",
      "Collecting llama-index-indices-managed-llama-cloud>=0.3.0 (from llama-index)\n",
      "  Using cached llama_index_indices_managed_llama_cloud-0.3.0-py3-none-any.whl.metadata (3.8 kB)\n",
      "Collecting llama-index-legacy<0.10.0,>=0.9.48 (from llama-index)\n",
      "  Using cached llama_index_legacy-0.9.48.post3-py3-none-any.whl.metadata (8.5 kB)\n",
      "Collecting llama-index-llms-openai<0.3.0,>=0.2.0 (from llama-index)\n",
      "  Using cached llama_index_llms_openai-0.2.0-py3-none-any.whl.metadata (648 bytes)\n",
      "Collecting llama-index-multi-modal-llms-openai<0.3.0,>=0.2.0 (from llama-index)\n",
      "  Using cached llama_index_multi_modal_llms_openai-0.2.0-py3-none-any.whl.metadata (728 bytes)\n",
      "Collecting llama-index-program-openai<0.3.0,>=0.2.0 (from llama-index)\n",
      "  Using cached llama_index_program_openai-0.2.0-py3-none-any.whl.metadata (766 bytes)\n",
      "Collecting llama-index-question-gen-openai<0.3.0,>=0.2.0 (from llama-index)\n",
      "  Using cached llama_index_question_gen_openai-0.2.0-py3-none-any.whl.metadata (785 bytes)\n",
      "Collecting llama-index-readers-file<0.3.0,>=0.2.0 (from llama-index)\n",
      "  Using cached llama_index_readers_file-0.2.0-py3-none-any.whl.metadata (5.4 kB)\n",
      "Collecting llama-index-readers-llama-parse>=0.2.0 (from llama-index)\n",
      "  Using cached llama_index_readers_llama_parse-0.2.0-py3-none-any.whl.metadata (3.6 kB)\n",
      "Collecting nltk>3.8.1 (from llama-index)\n",
      "  Using cached nltk-3.9.1-py3-none-any.whl.metadata (2.9 kB)\n",
      "Requirement already satisfied: openai>=1.14.0 in d:\\slack_bot\\slackenv\\lib\\site-packages (from llama-index-agent-openai<0.4.0,>=0.3.0->llama-index) (1.42.0)\n",
      "Requirement already satisfied: PyYAML>=6.0.1 in d:\\slack_bot\\slackenv\\lib\\site-packages (from llama-index-core<0.12.0,>=0.11.1->llama-index) (6.0.2)\n",
      "Collecting SQLAlchemy>=1.4.49 (from SQLAlchemy[asyncio]>=1.4.49->llama-index-core<0.12.0,>=0.11.1->llama-index)\n",
      "  Using cached SQLAlchemy-2.0.32-cp312-cp312-win_amd64.whl.metadata (9.8 kB)\n",
      "Collecting aiohttp<4.0.0,>=3.8.6 (from llama-index-core<0.12.0,>=0.11.1->llama-index)\n",
      "  Using cached aiohttp-3.10.5-cp312-cp312-win_amd64.whl.metadata (7.8 kB)\n",
      "Collecting dataclasses-json (from llama-index-core<0.12.0,>=0.11.1->llama-index)\n",
      "  Using cached dataclasses_json-0.6.7-py3-none-any.whl.metadata (25 kB)\n",
      "Collecting deprecated>=1.2.9.3 (from llama-index-core<0.12.0,>=0.11.1->llama-index)\n",
      "  Using cached Deprecated-1.2.14-py2.py3-none-any.whl.metadata (5.4 kB)\n",
      "Requirement already satisfied: dirtyjson<2.0.0,>=1.0.8 in d:\\slack_bot\\slackenv\\lib\\site-packages (from llama-index-core<0.12.0,>=0.11.1->llama-index) (1.0.8)\n",
      "Collecting fsspec>=2023.5.0 (from llama-index-core<0.12.0,>=0.11.1->llama-index)\n",
      "  Using cached fsspec-2024.6.1-py3-none-any.whl.metadata (11 kB)\n",
      "Requirement already satisfied: httpx in d:\\slack_bot\\slackenv\\lib\\site-packages (from llama-index-core<0.12.0,>=0.11.1->llama-index) (0.27.0)\n",
      "Requirement already satisfied: nest-asyncio<2.0.0,>=1.5.8 in d:\\slack_bot\\slackenv\\lib\\site-packages (from llama-index-core<0.12.0,>=0.11.1->llama-index) (1.6.0)\n",
      "Requirement already satisfied: networkx>=3.0 in d:\\slack_bot\\slackenv\\lib\\site-packages (from llama-index-core<0.12.0,>=0.11.1->llama-index) (3.3)\n",
      "Requirement already satisfied: numpy<2.0.0 in d:\\slack_bot\\slackenv\\lib\\site-packages (from llama-index-core<0.12.0,>=0.11.1->llama-index) (1.26.4)\n",
      "Requirement already satisfied: pillow>=9.0.0 in d:\\slack_bot\\slackenv\\lib\\site-packages (from llama-index-core<0.12.0,>=0.11.1->llama-index) (10.4.0)\n",
      "Requirement already satisfied: pydantic<3.0.0,>=2.0.0 in d:\\slack_bot\\slackenv\\lib\\site-packages (from llama-index-core<0.12.0,>=0.11.1->llama-index) (2.8.2)\n",
      "Requirement already satisfied: requests>=2.31.0 in d:\\slack_bot\\slackenv\\lib\\site-packages (from llama-index-core<0.12.0,>=0.11.1->llama-index) (2.32.3)\n",
      "Requirement already satisfied: tenacity!=8.4.0,<9.0.0,>=8.2.0 in d:\\slack_bot\\slackenv\\lib\\site-packages (from llama-index-core<0.12.0,>=0.11.1->llama-index) (8.5.0)\n",
      "Collecting tiktoken>=0.3.3 (from llama-index-core<0.12.0,>=0.11.1->llama-index)\n",
      "  Using cached tiktoken-0.7.0-cp312-cp312-win_amd64.whl.metadata (6.8 kB)\n",
      "Requirement already satisfied: tqdm<5.0.0,>=4.66.1 in d:\\slack_bot\\slackenv\\lib\\site-packages (from llama-index-core<0.12.0,>=0.11.1->llama-index) (4.66.5)\n",
      "Requirement already satisfied: typing-extensions>=4.5.0 in d:\\slack_bot\\slackenv\\lib\\site-packages (from llama-index-core<0.12.0,>=0.11.1->llama-index) (4.12.2)\n",
      "Collecting typing-inspect>=0.8.0 (from llama-index-core<0.12.0,>=0.11.1->llama-index)\n",
      "  Using cached typing_inspect-0.9.0-py3-none-any.whl.metadata (1.5 kB)\n",
      "Requirement already satisfied: wrapt in d:\\slack_bot\\slackenv\\lib\\site-packages (from llama-index-core<0.12.0,>=0.11.1->llama-index) (1.16.0)\n",
      "Collecting llama-cloud>=0.0.11 (from llama-index-indices-managed-llama-cloud>=0.3.0->llama-index)\n",
      "  Using cached llama_cloud-0.0.15-py3-none-any.whl.metadata (751 bytes)\n",
      "Collecting pandas (from llama-index-legacy<0.10.0,>=0.9.48->llama-index)\n",
      "  Using cached pandas-2.2.2-cp312-cp312-win_amd64.whl.metadata (19 kB)\n",
      "Requirement already satisfied: beautifulsoup4<5.0.0,>=4.12.3 in d:\\slack_bot\\slackenv\\lib\\site-packages (from llama-index-readers-file<0.3.0,>=0.2.0->llama-index) (4.12.3)\n",
      "Requirement already satisfied: pypdf<5.0.0,>=4.0.1 in d:\\slack_bot\\slackenv\\lib\\site-packages (from llama-index-readers-file<0.3.0,>=0.2.0->llama-index) (4.3.1)\n",
      "Requirement already satisfied: striprtf<0.0.27,>=0.0.26 in d:\\slack_bot\\slackenv\\lib\\site-packages (from llama-index-readers-file<0.3.0,>=0.2.0->llama-index) (0.0.26)\n",
      "Collecting llama-parse>=0.4.0 (from llama-index-readers-llama-parse>=0.2.0->llama-index)\n",
      "  Using cached llama_parse-0.5.0-py3-none-any.whl.metadata (4.4 kB)\n",
      "Requirement already satisfied: click in d:\\slack_bot\\slackenv\\lib\\site-packages (from nltk>3.8.1->llama-index) (8.1.7)\n",
      "Requirement already satisfied: joblib in d:\\slack_bot\\slackenv\\lib\\site-packages (from nltk>3.8.1->llama-index) (1.4.2)\n",
      "Requirement already satisfied: regex>=2021.8.3 in d:\\slack_bot\\slackenv\\lib\\site-packages (from nltk>3.8.1->llama-index) (2024.7.24)\n",
      "Collecting aiohappyeyeballs>=2.3.0 (from aiohttp<4.0.0,>=3.8.6->llama-index-core<0.12.0,>=0.11.1->llama-index)\n",
      "  Using cached aiohappyeyeballs-2.4.0-py3-none-any.whl.metadata (5.9 kB)\n",
      "Collecting aiosignal>=1.1.2 (from aiohttp<4.0.0,>=3.8.6->llama-index-core<0.12.0,>=0.11.1->llama-index)\n",
      "  Using cached aiosignal-1.3.1-py3-none-any.whl.metadata (4.0 kB)\n",
      "Requirement already satisfied: attrs>=17.3.0 in d:\\slack_bot\\slackenv\\lib\\site-packages (from aiohttp<4.0.0,>=3.8.6->llama-index-core<0.12.0,>=0.11.1->llama-index) (24.2.0)\n",
      "Collecting frozenlist>=1.1.1 (from aiohttp<4.0.0,>=3.8.6->llama-index-core<0.12.0,>=0.11.1->llama-index)\n",
      "  Using cached frozenlist-1.4.1-cp312-cp312-win_amd64.whl.metadata (12 kB)\n",
      "Requirement already satisfied: multidict<7.0,>=4.5 in d:\\slack_bot\\slackenv\\lib\\site-packages (from aiohttp<4.0.0,>=3.8.6->llama-index-core<0.12.0,>=0.11.1->llama-index) (6.0.5)\n",
      "Collecting yarl<2.0,>=1.0 (from aiohttp<4.0.0,>=3.8.6->llama-index-core<0.12.0,>=0.11.1->llama-index)\n",
      "  Using cached yarl-1.9.4-cp312-cp312-win_amd64.whl.metadata (32 kB)\n",
      "Requirement already satisfied: soupsieve>1.2 in d:\\slack_bot\\slackenv\\lib\\site-packages (from beautifulsoup4<5.0.0,>=4.12.3->llama-index-readers-file<0.3.0,>=0.2.0->llama-index) (2.6)\n",
      "Requirement already satisfied: anyio in d:\\slack_bot\\slackenv\\lib\\site-packages (from httpx->llama-index-core<0.12.0,>=0.11.1->llama-index) (4.4.0)\n",
      "Requirement already satisfied: certifi in d:\\slack_bot\\slackenv\\lib\\site-packages (from httpx->llama-index-core<0.12.0,>=0.11.1->llama-index) (2024.7.4)\n",
      "Requirement already satisfied: httpcore==1.* in d:\\slack_bot\\slackenv\\lib\\site-packages (from httpx->llama-index-core<0.12.0,>=0.11.1->llama-index) (1.0.5)\n",
      "Requirement already satisfied: idna in d:\\slack_bot\\slackenv\\lib\\site-packages (from httpx->llama-index-core<0.12.0,>=0.11.1->llama-index) (3.8)\n",
      "Requirement already satisfied: sniffio in d:\\slack_bot\\slackenv\\lib\\site-packages (from httpx->llama-index-core<0.12.0,>=0.11.1->llama-index) (1.3.1)\n",
      "Requirement already satisfied: h11<0.15,>=0.13 in d:\\slack_bot\\slackenv\\lib\\site-packages (from httpcore==1.*->httpx->llama-index-core<0.12.0,>=0.11.1->llama-index) (0.14.0)\n",
      "Requirement already satisfied: distro<2,>=1.7.0 in d:\\slack_bot\\slackenv\\lib\\site-packages (from openai>=1.14.0->llama-index-agent-openai<0.4.0,>=0.3.0->llama-index) (1.9.0)\n",
      "Requirement already satisfied: jiter<1,>=0.4.0 in d:\\slack_bot\\slackenv\\lib\\site-packages (from openai>=1.14.0->llama-index-agent-openai<0.4.0,>=0.3.0->llama-index) (0.5.0)\n",
      "Requirement already satisfied: annotated-types>=0.4.0 in d:\\slack_bot\\slackenv\\lib\\site-packages (from pydantic<3.0.0,>=2.0.0->llama-index-core<0.12.0,>=0.11.1->llama-index) (0.7.0)\n",
      "Requirement already satisfied: pydantic-core==2.20.1 in d:\\slack_bot\\slackenv\\lib\\site-packages (from pydantic<3.0.0,>=2.0.0->llama-index-core<0.12.0,>=0.11.1->llama-index) (2.20.1)\n",
      "Requirement already satisfied: charset-normalizer<4,>=2 in d:\\slack_bot\\slackenv\\lib\\site-packages (from requests>=2.31.0->llama-index-core<0.12.0,>=0.11.1->llama-index) (3.3.2)\n",
      "Requirement already satisfied: urllib3<3,>=1.21.1 in d:\\slack_bot\\slackenv\\lib\\site-packages (from requests>=2.31.0->llama-index-core<0.12.0,>=0.11.1->llama-index) (2.2.2)\n",
      "Collecting greenlet!=0.4.17 (from SQLAlchemy>=1.4.49->SQLAlchemy[asyncio]>=1.4.49->llama-index-core<0.12.0,>=0.11.1->llama-index)\n",
      "  Using cached greenlet-3.0.3-cp312-cp312-win_amd64.whl.metadata (3.9 kB)\n",
      "Requirement already satisfied: colorama in d:\\slack_bot\\slackenv\\lib\\site-packages (from tqdm<5.0.0,>=4.66.1->llama-index-core<0.12.0,>=0.11.1->llama-index) (0.4.6)\n",
      "Requirement already satisfied: mypy-extensions>=0.3.0 in d:\\slack_bot\\slackenv\\lib\\site-packages (from typing-inspect>=0.8.0->llama-index-core<0.12.0,>=0.11.1->llama-index) (1.0.0)\n",
      "Requirement already satisfied: marshmallow<4.0.0,>=3.18.0 in d:\\slack_bot\\slackenv\\lib\\site-packages (from dataclasses-json->llama-index-core<0.12.0,>=0.11.1->llama-index) (3.22.0)\n",
      "Requirement already satisfied: python-dateutil>=2.8.2 in d:\\slack_bot\\slackenv\\lib\\site-packages (from pandas->llama-index-legacy<0.10.0,>=0.9.48->llama-index) (2.9.0.post0)\n",
      "Requirement already satisfied: pytz>=2020.1 in d:\\slack_bot\\slackenv\\lib\\site-packages (from pandas->llama-index-legacy<0.10.0,>=0.9.48->llama-index) (2024.1)\n",
      "Requirement already satisfied: tzdata>=2022.7 in d:\\slack_bot\\slackenv\\lib\\site-packages (from pandas->llama-index-legacy<0.10.0,>=0.9.48->llama-index) (2024.1)\n",
      "Requirement already satisfied: packaging>=17.0 in d:\\slack_bot\\slackenv\\lib\\site-packages (from marshmallow<4.0.0,>=3.18.0->dataclasses-json->llama-index-core<0.12.0,>=0.11.1->llama-index) (24.1)\n",
      "Requirement already satisfied: six>=1.5 in d:\\slack_bot\\slackenv\\lib\\site-packages (from python-dateutil>=2.8.2->pandas->llama-index-legacy<0.10.0,>=0.9.48->llama-index) (1.16.0)\n",
      "Using cached llama_index-0.11.1-py3-none-any.whl (6.8 kB)\n",
      "Using cached llama_index_agent_openai-0.3.0-py3-none-any.whl (13 kB)\n",
      "Using cached llama_index_cli-0.3.0-py3-none-any.whl (27 kB)\n",
      "Using cached llama_index_core-0.11.1-py3-none-any.whl (1.6 MB)\n",
      "Using cached llama_index_embeddings_openai-0.2.3-py3-none-any.whl (6.3 kB)\n",
      "Using cached llama_index_indices_managed_llama_cloud-0.3.0-py3-none-any.whl (9.5 kB)\n",
      "Using cached llama_index_legacy-0.9.48.post3-py3-none-any.whl (1.2 MB)\n",
      "Using cached llama_index_llms_openai-0.2.0-py3-none-any.whl (12 kB)\n",
      "Using cached llama_index_multi_modal_llms_openai-0.2.0-py3-none-any.whl (5.9 kB)\n",
      "Using cached llama_index_program_openai-0.2.0-py3-none-any.whl (5.3 kB)\n",
      "Using cached llama_index_question_gen_openai-0.2.0-py3-none-any.whl (2.9 kB)\n",
      "Using cached llama_index_readers_file-0.2.0-py3-none-any.whl (38 kB)\n",
      "Using cached llama_index_readers_llama_parse-0.2.0-py3-none-any.whl (2.5 kB)\n",
      "Using cached nltk-3.9.1-py3-none-any.whl (1.5 MB)\n",
      "Using cached aiohttp-3.10.5-cp312-cp312-win_amd64.whl (377 kB)\n",
      "Using cached Deprecated-1.2.14-py2.py3-none-any.whl (9.6 kB)\n",
      "Using cached fsspec-2024.6.1-py3-none-any.whl (177 kB)\n",
      "Using cached llama_cloud-0.0.15-py3-none-any.whl (180 kB)\n",
      "Using cached llama_parse-0.5.0-py3-none-any.whl (9.4 kB)\n",
      "Using cached SQLAlchemy-2.0.32-cp312-cp312-win_amd64.whl (2.1 MB)\n",
      "Using cached tiktoken-0.7.0-cp312-cp312-win_amd64.whl (799 kB)\n",
      "Using cached typing_inspect-0.9.0-py3-none-any.whl (8.8 kB)\n",
      "Using cached dataclasses_json-0.6.7-py3-none-any.whl (28 kB)\n",
      "Using cached pandas-2.2.2-cp312-cp312-win_amd64.whl (11.5 MB)\n",
      "Using cached aiohappyeyeballs-2.4.0-py3-none-any.whl (12 kB)\n",
      "Using cached aiosignal-1.3.1-py3-none-any.whl (7.6 kB)\n",
      "Using cached frozenlist-1.4.1-cp312-cp312-win_amd64.whl (50 kB)\n",
      "Using cached greenlet-3.0.3-cp312-cp312-win_amd64.whl (293 kB)\n",
      "Using cached yarl-1.9.4-cp312-cp312-win_amd64.whl (76 kB)\n",
      "Installing collected packages: yarl, typing-inspect, greenlet, fsspec, frozenlist, deprecated, aiohappyeyeballs, tiktoken, SQLAlchemy, pandas, nltk, dataclasses-json, aiosignal, llama-cloud, aiohttp, llama-index-legacy, llama-index-core, llama-parse, llama-index-readers-file, llama-index-llms-openai, llama-index-indices-managed-llama-cloud, llama-index-embeddings-openai, llama-index-readers-llama-parse, llama-index-multi-modal-llms-openai, llama-index-cli, llama-index-agent-openai, llama-index-program-openai, llama-index-question-gen-openai, llama-index\n",
      "Successfully installed SQLAlchemy-2.0.32 aiohappyeyeballs-2.4.0 aiohttp-3.10.5 aiosignal-1.3.1 dataclasses-json-0.6.7 deprecated-1.2.14 frozenlist-1.4.1 fsspec-2024.6.1 greenlet-3.0.3 llama-cloud-0.0.15 llama-index-0.11.1 llama-index-agent-openai-0.3.0 llama-index-cli-0.3.0 llama-index-core-0.11.1 llama-index-embeddings-openai-0.2.3 llama-index-indices-managed-llama-cloud-0.3.0 llama-index-legacy-0.9.48.post3 llama-index-llms-openai-0.2.0 llama-index-multi-modal-llms-openai-0.2.0 llama-index-program-openai-0.2.0 llama-index-question-gen-openai-0.2.0 llama-index-readers-file-0.2.0 llama-index-readers-llama-parse-0.2.0 llama-parse-0.5.0 nltk-3.9.1 pandas-2.2.2 tiktoken-0.7.0 typing-inspect-0.9.0 yarl-1.9.4\n",
      "Note: you may need to restart the kernel to use updated packages.\n"
     ]
    }
   ],
   "source": [
    "# %pip install llama-index llama-index-vector-stores-upstash upstash-vector"
   ]
  },
  {
   "cell_type": "code",
   "execution_count": 3,
   "id": "8e90e950-2adc-4afd-b7ee-735e985396f2",
   "metadata": {},
   "outputs": [],
   "source": [
    "import setup\n",
    "setup.init_django()"
   ]
  },
  {
   "cell_type": "code",
   "execution_count": 2,
   "id": "e37bb94a-8f11-4cbc-9b8c-4a7cc45dd011",
   "metadata": {},
   "outputs": [],
   "source": [
    "django_pdf = \"data/django.pdf\""
   ]
  },
  {
   "cell_type": "code",
   "execution_count": 4,
   "id": "b11a2376-a995-4cdf-847b-38f211ae8375",
   "metadata": {},
   "outputs": [
    {
     "ename": "ModuleNotFoundError",
     "evalue": "No module named 'llama_index'",
     "output_type": "error",
     "traceback": [
      "\u001b[1;31m---------------------------------------------------------------------------\u001b[0m",
      "\u001b[1;31mModuleNotFoundError\u001b[0m                       Traceback (most recent call last)",
      "Cell \u001b[1;32mIn[4], line 1\u001b[0m\n\u001b[1;32m----> 1\u001b[0m \u001b[38;5;28;01mfrom\u001b[39;00m \u001b[38;5;21;01mllama_index\u001b[39;00m\u001b[38;5;21;01m.\u001b[39;00m\u001b[38;5;21;01mcore\u001b[39;00m \u001b[38;5;28;01mimport\u001b[39;00m VectorStoreIndex, SimpleDirectoryReader\n",
      "\u001b[1;31mModuleNotFoundError\u001b[0m: No module named 'llama_index'"
     ]
    }
   ],
   "source": [
    "from llama_index.core import VectorStoreIndex, SimpleDirectoryReader, StorageContext\n",
    "from llama_index.vector_stores.upstash import UpstashVectorStore # changed from the LlamaIndex Docs"
   ]
  },
  {
   "cell_type": "code",
   "execution_count": null,
   "id": "1e0944a8-2d4c-4317-904a-c195ceefc5e4",
   "metadata": {},
   "outputs": [],
   "source": [
    "reader = SimpleDirectoryReader(input_files=[django_pdf])"
   ]
  },
  {
   "cell_type": "code",
   "execution_count": null,
   "id": "084a7feb-dee7-47d6-a805-eb086f94758b",
   "metadata": {},
   "outputs": [],
   "source": [
    "import helpers\n",
    "import openai\n",
    "openai.api_key = helpers.config(\"OPENAI_API_KEY\", default=None)"
   ]
  },
  {
   "cell_type": "code",
   "execution_count": null,
   "id": "aa9486f4-2913-47be-ab2c-42ac55a29615",
   "metadata": {},
   "outputs": [],
   "source": [
    "url=helpers.config(\"UPSTASH_VECTOR_URL\", default=None)\n",
    "token=helpers.config(\"UPSTASH_VECTOR_TOKEN\", default=None)\n",
    "url"
   ]
  },
  {
   "cell_type": "code",
   "execution_count": null,
   "id": "71ca52cd-7cde-4872-a883-fccbcc45bf53",
   "metadata": {},
   "outputs": [],
   "source": []
  },
  {
   "cell_type": "code",
   "execution_count": null,
   "id": "7df39ae9-1734-43a0-b424-0eb2003fe1ce",
   "metadata": {},
   "outputs": [],
   "source": [
    "data = reader.load_data()"
   ]
  },
  {
   "cell_type": "code",
   "execution_count": null,
   "id": "12341867-d4cd-467a-bd56-78aac256c303",
   "metadata": {},
   "outputs": [],
   "source": [
    "import httpx\n",
    "\n",
    "timeout = httpx.Timeout(600.0, connect=600.0)\n",
    "client = httpx.Client(timeout=timeout)"
   ]
  },
  {
   "cell_type": "code",
   "execution_count": null,
   "id": "5f6fe32f-d48d-43fe-a34a-f42dbb1f3fb1",
   "metadata": {},
   "outputs": [],
   "source": [
    "from upstash_vector import Index\n",
    "\n",
    "upstash_index = Index(\n",
    "    url=url, \n",
    "    token=token,\n",
    "    retries=5,\n",
    "    retry_interval=0.2\n",
    ")\n",
    "upstash_index._client = client"
   ]
  },
  {
   "cell_type": "code",
   "execution_count": null,
   "id": "1353c48e-4ee1-41ea-a0ff-c5bd7a38b82a",
   "metadata": {},
   "outputs": [],
   "source": [
    "vector_store = UpstashVectorStore(\n",
    "    url=url, \n",
    "    token=token,\n",
    ")\n",
    "vector_store._index = upstash_index"
   ]
  },
  {
   "cell_type": "code",
   "execution_count": null,
   "id": "b1c205be-79be-4b0f-941a-b6be7b808397",
   "metadata": {},
   "outputs": [],
   "source": [
    "storage_context = StorageContext.from_defaults(vector_store=vector_store)"
   ]
  },
  {
   "cell_type": "code",
   "execution_count": null,
   "id": "889e8539-93ae-4cfc-b4eb-56e9e780d788",
   "metadata": {},
   "outputs": [],
   "source": [
    "index = VectorStoreIndex.from_documents(data, storage_context=storage_context, insert_batch_size=500)"
   ]
  },
  {
   "cell_type": "code",
   "execution_count": null,
   "id": "1b9b0d84-4cba-4db1-8e89-5feb22982533",
   "metadata": {},
   "outputs": [],
   "source": [
    "index_persist = VectorStoreIndex.from_vector_store(vector_store=vector_store)"
   ]
  },
  {
   "cell_type": "code",
   "execution_count": null,
   "id": "5a0d64bd-274b-4462-a539-a0832a180558",
   "metadata": {},
   "outputs": [],
   "source": [
    "from llama_index.core.response_synthesizers.type import ResponseMode\n",
    "query_engine = index_persist.as_query_engine()"
   ]
  },
  {
   "cell_type": "code",
   "execution_count": null,
   "id": "0ff7a051-a461-4190-9c81-a3dda1fdca2f",
   "metadata": {},
   "outputs": [],
   "source": [
    "r = query_engine.query(\"What are the arguments for CharField?\")\n",
    "print(r)"
   ]
  },
  {
   "cell_type": "code",
   "execution_count": null,
   "id": "ac2b5af3-0e11-4546-a4c3-55cafd7bf5e2",
   "metadata": {},
   "outputs": [],
   "source": []
  },
  {
   "cell_type": "code",
   "execution_count": null,
   "id": "5ce07ae2-1e6e-4712-9fae-c63e189d76c7",
   "metadata": {},
   "outputs": [],
   "source": []
  }
 ],
 "metadata": {
  "kernelspec": {
   "display_name": "Python 3 (ipykernel)",
   "language": "python",
   "name": "python3"
  },
  "language_info": {
   "codemirror_mode": {
    "name": "ipython",
    "version": 3
   },
   "file_extension": ".py",
   "mimetype": "text/x-python",
   "name": "python",
   "nbconvert_exporter": "python",
   "pygments_lexer": "ipython3",
   "version": "3.12.5"
  }
 },
 "nbformat": 4,
 "nbformat_minor": 5
}
