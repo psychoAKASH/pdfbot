{
 "cells": [
  {
   "cell_type": "code",
   "execution_count": null,
   "id": "e0cb9335-3fd4-46cb-91c3-a12864500a7c",
   "metadata": {},
   "outputs": [],
   "source": [
    "%pip install llama-index llama-index-llms-ollama llama-index-embeddings-huggingface"
   ]
  },
  {
   "cell_type": "code",
   "execution_count": 4,
   "id": "c484b90f-31ef-49cb-9bbe-d54b2bf36ed0",
   "metadata": {},
   "outputs": [],
   "source": [
    "import setup\n",
    "setup.init_django()"
   ]
  },
  {
   "cell_type": "code",
   "execution_count": 5,
   "id": "9e775244-23d3-4edb-9420-ea38c2bc81a1",
   "metadata": {},
   "outputs": [],
   "source": [
    "django_pdf = \"data/django.pdf\""
   ]
  },
  {
   "cell_type": "code",
   "execution_count": 6,
   "id": "63158115-7757-4573-ad73-919c6901df0e",
   "metadata": {},
   "outputs": [],
   "source": [
    "from llama_index.core import VectorStoreIndex, SimpleDirectoryReader, Settings"
   ]
  },
  {
   "cell_type": "code",
   "execution_count": 7,
   "id": "3a3b403e-a1cc-4967-a486-15ac209abed9",
   "metadata": {},
   "outputs": [],
   "source": [
    "reader = SimpleDirectoryReader(input_files=[django_pdf])"
   ]
  },
  {
   "cell_type": "code",
   "execution_count": 8,
   "id": "97a96766-e1c8-4c0d-89c6-16f200a79ca7",
   "metadata": {},
   "outputs": [],
   "source": [
    "data = reader.load_data()"
   ]
  },
  {
   "cell_type": "code",
   "execution_count": 9,
   "id": "36a9bbc0-c115-47d3-a6c3-5561258e2924",
   "metadata": {},
   "outputs": [],
   "source": [
    "from llama_index.llms.ollama import Ollama\n",
    "\n",
    "llm = Ollama(model=\"llama3\", request_timeout=120.0) \n",
    "Settings.llm = llm"
   ]
  },
  {
   "cell_type": "code",
   "execution_count": 12,
   "id": "735789e4-e290-4ac2-9623-4e438e45309e",
   "metadata": {},
   "outputs": [],
   "source": [
    "from llama_index.embeddings.huggingface import HuggingFaceEmbedding\n",
    "from llama_index.core import Settings\n",
    "\n",
    "Settings.embed_model = HuggingFaceEmbedding(\n",
    "    model_name=\"BAAI/bge-large-en-v1.5\"\n",
    ")"
   ]
  },
  {
   "cell_type": "code",
   "execution_count": 1,
   "id": "089d01e9-8613-4545-827a-50fe4c25456c",
   "metadata": {},
   "outputs": [],
   "source": [
    "# pip install llama-index-llms-openai\n",
    "# from llama_index.llms.openai import OpenAI\n",
    "# llm = OpenAI(temperature=0.1, model=\"gpt-4\", api_key=) # gpt-3.5-turbo\n",
    "# Settings.llm = llm"
   ]
  },
  {
   "cell_type": "code",
   "execution_count": null,
   "id": "ba27c5e6-a23d-4018-a92a-930ce33cc138",
   "metadata": {},
   "outputs": [],
   "source": [
    "# import helpers\n",
    "# import openai\n",
    "# openai.api_key = helpers.config(\"OPENAI_API_KEY\", default=None)"
   ]
  },
  {
   "cell_type": "code",
   "execution_count": 13,
   "id": "842c914b-b63c-46bf-96b7-a108b8553fc4",
   "metadata": {},
   "outputs": [
    {
     "data": {
      "application/vnd.jupyter.widget-view+json": {
       "model_id": "bdf1ee5ceb53496fa9e32eb0f3ed2381",
       "version_major": 2,
       "version_minor": 0
      },
      "text/plain": [
       "Parsing nodes:   0%|          | 0/2888 [00:00<?, ?it/s]"
      ]
     },
     "metadata": {},
     "output_type": "display_data"
    },
    {
     "data": {
      "application/vnd.jupyter.widget-view+json": {
       "model_id": "0ffbb7c40d274e7bb81614eb26c75f55",
       "version_major": 2,
       "version_minor": 0
      },
      "text/plain": [
       "Generating embeddings:   0%|          | 0/2048 [00:00<?, ?it/s]"
      ]
     },
     "metadata": {},
     "output_type": "display_data"
    },
    {
     "data": {
      "application/vnd.jupyter.widget-view+json": {
       "model_id": "e3669c1694e147018d3b9733955a0b21",
       "version_major": 2,
       "version_minor": 0
      },
      "text/plain": [
       "Generating embeddings:   0%|          | 0/850 [00:00<?, ?it/s]"
      ]
     },
     "metadata": {},
     "output_type": "display_data"
    }
   ],
   "source": [
    "# text -> vectors with embedding models\n",
    "# vectors -> vector db\n",
    "index = VectorStoreIndex.from_documents(data, show_progress=True)"
   ]
  },
  {
   "cell_type": "code",
   "execution_count": 14,
   "id": "4056a2d9-0884-44a6-8247-4882cab683ef",
   "metadata": {},
   "outputs": [],
   "source": [
    "query_engine = index.as_query_engine()"
   ]
  },
  {
   "cell_type": "code",
   "execution_count": 46,
   "id": "7fbde12d-f20a-4c56-a028-2522700be08b",
   "metadata": {},
   "outputs": [
    {
     "name": "stdout",
     "output_type": "stream",
     "text": [
      "The `CharField` in Django requires a single positional argument, which is the maximum length of the text. \n",
      "\n",
      "In the provided context, `first_name = models.CharField(max_length =30)` shows that the `max_length` keyword argument is set to 30, which means the field can hold strings up to 30 characters long.\n"
     ]
    }
   ],
   "source": [
    "r = query_engine.query(\"What are the arguments for models.CharField? explain them\")\n",
    "print(r.response)"
   ]
  },
  {
   "cell_type": "code",
   "execution_count": 50,
   "id": "63727d2c-1afd-4a44-b75f-a95dfa4a8861",
   "metadata": {},
   "outputs": [
    {
     "name": "stdout",
     "output_type": "stream",
     "text": [
      "Here's an example Product model with 5 fields:\n",
      "\n",
      "```\n",
      "from django.db import models\n",
      "\n",
      "class Product(models.Model):\n",
      "    name = models.CharField(max_length=200)\n",
      "    number_sold = models.IntegerField()\n",
      "    price = models.DecimalField(max_digits=10, decimal_places=2)\n",
      "    description = models.TextField()\n",
      "    category = models.CharField(max_length=50)\n",
      "```\n"
     ]
    }
   ],
   "source": [
    "r = query_engine.query(\"What is an example Product model with 5 fields? return as python format\")\n",
    "print(r.response)"
   ]
  },
  {
   "cell_type": "code",
   "execution_count": null,
   "id": "93eb2fbb-b87c-4044-aeba-57cc40cf1ce2",
   "metadata": {},
   "outputs": [],
   "source": []
  }
 ],
 "metadata": {
  "kernelspec": {
   "display_name": "Python 3 (ipykernel)",
   "language": "python",
   "name": "python3"
  },
  "language_info": {
   "codemirror_mode": {
    "name": "ipython",
    "version": 3
   },
   "file_extension": ".py",
   "mimetype": "text/x-python",
   "name": "python",
   "nbconvert_exporter": "python",
   "pygments_lexer": "ipython3",
   "version": "3.12.2"
  }
 },
 "nbformat": 4,
 "nbformat_minor": 5
}
